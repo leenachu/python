{
 "cells": [
  {
   "cell_type": "markdown",
   "id": "f63870fe",
   "metadata": {},
   "source": [
    "# 모평균검정-Python\n",
    "게의 평균체온 24.3도의 모평균 검정\n",
    "H0(귀무가설) : =24.3 / H1(대립가설) : <>24.3\n",
    "pandas와 numpy 패키지 설치   # shift + enter : 실행 #as : 앨리어스(쪼개서쓰겠다)"
   ]
  },
  {
   "cell_type": "code",
   "execution_count": 34,
   "id": "9dcefffd",
   "metadata": {},
   "outputs": [],
   "source": [
    "import pandas as pd\n",
    "import numpy as np"
   ]
  },
  {
   "cell_type": "code",
   "execution_count": 35,
   "id": "f37819f5",
   "metadata": {},
   "outputs": [],
   "source": [
    "#파일 불러오기\n",
    "f=open(\"c:/data/rpy/crab.txt\",\"r\")"
   ]
  },
  {
   "cell_type": "code",
   "execution_count": 36,
   "id": "538871f2",
   "metadata": {},
   "outputs": [
    {
     "name": "stdout",
     "output_type": "stream",
     "text": [
      "   25.8  24.6  26.1  22.9  25.1  27.3  24.0  24.5  23.9  26.2\n",
      "   24.3  24.6  23.3  25.5  28.1  24.8  23.5  26.3  25.4  25.5\n",
      "   23.9  27.0  24.8  22.9  25.4\n"
     ]
    }
   ],
   "source": [
    "#f.read() : 읽은 데이터를 문자로 저장\n",
    "crab=f.read()\n",
    "print(crab)"
   ]
  },
  {
   "cell_type": "code",
   "execution_count": 37,
   "id": "7a7bdb54",
   "metadata": {},
   "outputs": [
    {
     "data": {
      "text/plain": [
       "str"
      ]
     },
     "execution_count": 37,
     "metadata": {},
     "output_type": "execute_result"
    }
   ],
   "source": [
    "#파일의 타입 파악하기\n",
    "type(crab)"
   ]
  },
  {
   "cell_type": "code",
   "execution_count": 38,
   "id": "21fd0a61",
   "metadata": {},
   "outputs": [],
   "source": [
    "#crab.split() : 불러온 문자를 리스트로 저장하기\n",
    "crab=crab.split()"
   ]
  },
  {
   "cell_type": "code",
   "execution_count": 39,
   "id": "ab36ff6d",
   "metadata": {},
   "outputs": [
    {
     "name": "stdout",
     "output_type": "stream",
     "text": [
      "['25.8', '24.6', '26.1', '22.9', '25.1', '27.3', '24.0', '24.5', '23.9', '26.2', '24.3', '24.6', '23.3', '25.5', '28.1', '24.8', '23.5', '26.3', '25.4', '25.5', '23.9', '27.0', '24.8', '22.9', '25.4']\n"
     ]
    }
   ],
   "source": [
    "print(crab)"
   ]
  },
  {
   "cell_type": "code",
   "execution_count": 40,
   "id": "e1cf33e2",
   "metadata": {},
   "outputs": [
    {
     "data": {
      "text/plain": [
       "[25.8, 24.6, 26.1, 22.9, 25.1]"
      ]
     },
     "execution_count": 40,
     "metadata": {},
     "output_type": "execute_result"
    }
   ],
   "source": [
    "#실수형 리스트로 변환하기 : 변수x에 crab에 있는 원소개체를 반복문으로 실수형으로 변환하기\n",
    "fcrab=[float(x) for x in crab]\n",
    "fcrab[0:5] #0이상 5미만"
   ]
  },
  {
   "cell_type": "code",
   "execution_count": 41,
   "id": "8518031f",
   "metadata": {},
   "outputs": [
    {
     "data": {
      "text/plain": [
       "list"
      ]
     },
     "execution_count": 41,
     "metadata": {},
     "output_type": "execute_result"
    }
   ],
   "source": [
    "type(crab)"
   ]
  },
  {
   "cell_type": "code",
   "execution_count": 42,
   "id": "492e2d6c",
   "metadata": {},
   "outputs": [
    {
     "data": {
      "text/plain": [
       "float"
      ]
     },
     "execution_count": 42,
     "metadata": {},
     "output_type": "execute_result"
    }
   ],
   "source": [
    "type(fcrab[1])"
   ]
  },
  {
   "cell_type": "code",
   "execution_count": 43,
   "id": "b1c3aad6",
   "metadata": {},
   "outputs": [
    {
     "data": {
      "text/plain": [
       "Ttest_1sampResult(statistic=2.7127692953052716, pvalue=0.01214553724164843)"
      ]
     },
     "execution_count": 43,
     "metadata": {},
     "output_type": "execute_result"
    }
   ],
   "source": [
    "#stats .scipy 모듈 불러오기\n",
    "#stats.ttest_1samp : stats 모듈의 ttest_1samp 함수\n",
    "from scipy import stats\n",
    "crab_ttest=stats.ttest_1samp(fcrab,24.3)\n",
    "crab_ttest"
   ]
  },
  {
   "cell_type": "code",
   "execution_count": 44,
   "id": "fac6208a",
   "metadata": {},
   "outputs": [
    {
     "name": "stdout",
     "output_type": "stream",
     "text": [
      "T=value = 2.713, p-value = 0.012\n"
     ]
    }
   ],
   "source": [
    "##T value와 P-value 출력하기\n",
    "print(\"T=value = %.3f, p-value = %.3f\" % crab_ttest) #.3f 소수점 3자리까지/포맷\n",
    "#최종결과 : p-value가 0.012이므로 유의수준 0.05보다 작다. 따라서 귀무가설을 기각한다.\n",
    "#그러므로 유의수준 0.05에서 게의 평균체온이 24.3도라고 할 수 없다."
   ]
  },
  {
   "cell_type": "code",
   "execution_count": 45,
   "id": "c1d81256",
   "metadata": {
    "scrolled": true
   },
   "outputs": [
    {
     "name": "stdout",
     "output_type": "stream",
     "text": [
      "T-value =2.713 P-value=0.012\n"
     ]
    }
   ],
   "source": [
    "#참고\n",
    "print(\"T-value =%.3f\" %crab_ttest[0],\"P-value=%.3f\" %crab_ttest[1])"
   ]
  },
  {
   "cell_type": "markdown",
   "id": "75e07b39",
   "metadata": {},
   "source": [
    "# 두 독립표본 평균 검정-R\n",
    "#두 종류의 지혈제를 비교하여 평균의 차이가 있는지 검정\n",
    "#H0:mu1=mu2 / H1:mu1!=mu2 / 유의수준 alpha=0.05"
   ]
  },
  {
   "cell_type": "code",
   "execution_count": null,
   "id": "4d519d04",
   "metadata": {},
   "outputs": [],
   "source": [
    "#stats 패키지의 scipy 모듈 불러오기\n",
    "import pandas as pd\n",
    "from scipy import stats"
   ]
  },
  {
   "cell_type": "code",
   "execution_count": 46,
   "id": "b7c3c8db",
   "metadata": {},
   "outputs": [
    {
     "data": {
      "text/plain": [
       "Index(['drug', 'time'], dtype='object')"
      ]
     },
     "execution_count": 46,
     "metadata": {},
     "output_type": "execute_result"
    }
   ],
   "source": [
    "#파일 불러오기\n",
    "drug=pd.read_csv(\"c:/data/rpy/drug.csv\")\n",
    "drug.columns"
   ]
  },
  {
   "cell_type": "code",
   "execution_count": 47,
   "id": "c8603e0c",
   "metadata": {},
   "outputs": [],
   "source": [
    "#조건이 들어가서 loc로 사용/ind : 독립\n",
    "drugB=drug.loc[drug.drug=='B','time']\n",
    "drugG=drug.loc[drug.drug=='G','time']\n",
    "#drugB=drug[drug.drug=='B'].'time'\n",
    "#drugG=drug[drug.drug=='G'].'time'\n",
    "drug_ttest=stats.ttest_ind(drugB, drugG, equal_var=False) #등분산이 X, 이분산O(분산이다르다) 가정"
   ]
  },
  {
   "cell_type": "code",
   "execution_count": 48,
   "id": "e545afeb",
   "metadata": {},
   "outputs": [
    {
     "data": {
      "text/plain": [
       "Ttest_indResult(statistic=-2.545400506120506, pvalue=0.027737003664852006)"
      ]
     },
     "execution_count": 48,
     "metadata": {},
     "output_type": "execute_result"
    }
   ],
   "source": [
    "drug_ttest"
   ]
  },
  {
   "cell_type": "code",
   "execution_count": 49,
   "id": "a04ac466",
   "metadata": {},
   "outputs": [
    {
     "name": "stdout",
     "output_type": "stream",
     "text": [
      "T-value =-2.545 P-value=0.028\n"
     ]
    }
   ],
   "source": [
    "print(\"T-value =%.3f\" %drug_ttest[0],\"P-value=%.3f\" %drug_ttest[1])"
   ]
  },
  {
   "cell_type": "markdown",
   "id": "3abf59f4",
   "metadata": {},
   "source": [
    "# 짝지어진 표본에서 평균 검정\n",
    "#사슴 앞다리와 뒷다리의 길이차이"
   ]
  },
  {
   "cell_type": "code",
   "execution_count": null,
   "id": "d5c3d009",
   "metadata": {},
   "outputs": [],
   "source": [
    "#stats 패키지의 scipy 모듈 불러오기\n",
    "import pandas as pd\n",
    "from scipy import stats"
   ]
  },
  {
   "cell_type": "code",
   "execution_count": 50,
   "id": "9497253f",
   "metadata": {},
   "outputs": [
    {
     "data": {
      "text/html": [
       "<div>\n",
       "<style scoped>\n",
       "    .dataframe tbody tr th:only-of-type {\n",
       "        vertical-align: middle;\n",
       "    }\n",
       "\n",
       "    .dataframe tbody tr th {\n",
       "        vertical-align: top;\n",
       "    }\n",
       "\n",
       "    .dataframe thead th {\n",
       "        text-align: right;\n",
       "    }\n",
       "</style>\n",
       "<table border=\"1\" class=\"dataframe\">\n",
       "  <thead>\n",
       "    <tr style=\"text-align: right;\">\n",
       "      <th></th>\n",
       "      <th>id</th>\n",
       "      <th>hleg</th>\n",
       "      <th>fleg</th>\n",
       "    </tr>\n",
       "  </thead>\n",
       "  <tbody>\n",
       "    <tr>\n",
       "      <th>0</th>\n",
       "      <td>1</td>\n",
       "      <td>142</td>\n",
       "      <td>138</td>\n",
       "    </tr>\n",
       "    <tr>\n",
       "      <th>1</th>\n",
       "      <td>2</td>\n",
       "      <td>140</td>\n",
       "      <td>136</td>\n",
       "    </tr>\n",
       "    <tr>\n",
       "      <th>2</th>\n",
       "      <td>3</td>\n",
       "      <td>144</td>\n",
       "      <td>147</td>\n",
       "    </tr>\n",
       "    <tr>\n",
       "      <th>3</th>\n",
       "      <td>4</td>\n",
       "      <td>144</td>\n",
       "      <td>139</td>\n",
       "    </tr>\n",
       "    <tr>\n",
       "      <th>4</th>\n",
       "      <td>5</td>\n",
       "      <td>142</td>\n",
       "      <td>143</td>\n",
       "    </tr>\n",
       "  </tbody>\n",
       "</table>\n",
       "</div>"
      ],
      "text/plain": [
       "   id  hleg  fleg\n",
       "0   1   142   138\n",
       "1   2   140   136\n",
       "2   3   144   147\n",
       "3   4   144   139\n",
       "4   5   142   143"
      ]
     },
     "execution_count": 50,
     "metadata": {},
     "output_type": "execute_result"
    }
   ],
   "source": [
    "#파일 불러오기\n",
    "deer=pd.read_csv(\"c:/data/rpy/deer.csv\")\n",
    "deer.head() #파이썬은 5개/ R은 6개"
   ]
  },
  {
   "cell_type": "code",
   "execution_count": 51,
   "id": "510b9aa8",
   "metadata": {},
   "outputs": [
    {
     "name": "stdout",
     "output_type": "stream",
     "text": [
      "T-value=3.414,P-value=0.008\n"
     ]
    }
   ],
   "source": [
    "#perform paired t-test\n",
    "deer_pttest=stats.ttest_rel(deer.hleg, deer.fleg) \n",
    "deer_pttest\n",
    "print(\"T-value=%.3f,P-value=%.3f\"%deer_pttest) #전후차이가있다."
   ]
  }
 ],
 "metadata": {
  "kernelspec": {
   "display_name": "Python 3",
   "language": "python",
   "name": "python3"
  },
  "language_info": {
   "codemirror_mode": {
    "name": "ipython",
    "version": 3
   },
   "file_extension": ".py",
   "mimetype": "text/x-python",
   "name": "python",
   "nbconvert_exporter": "python",
   "pygments_lexer": "ipython3",
   "version": "3.8.8"
  }
 },
 "nbformat": 4,
 "nbformat_minor": 5
}
